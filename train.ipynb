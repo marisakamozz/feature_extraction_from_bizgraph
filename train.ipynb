{
 "cells": [
  {
   "cell_type": "markdown",
   "metadata": {},
   "source": [
    "# Feature extraction from business relationship graphs by GCN"
   ]
  },
  {
   "cell_type": "markdown",
   "metadata": {},
   "source": [
    "We show the source codes used in the paper \"Feature extraction from business relationship graphs by Graph Convolutional Networks\" in this notebook.\n",
    "\n",
    "Although the paper uses actual bank data, we use fictitious data in this notebook for demonstration purposes. So, the execution results will differ from the paper."
   ]
  },
  {
   "cell_type": "markdown",
   "metadata": {},
   "source": [
    "## 1. Preparation"
   ]
  },
  {
   "cell_type": "markdown",
   "metadata": {},
   "source": [
    "### 1.1. Generate dummy data"
   ]
  },
  {
   "cell_type": "code",
   "execution_count": 1,
   "metadata": {},
   "outputs": [],
   "source": [
    "!python generate_dummy_data.py"
   ]
  },
  {
   "cell_type": "markdown",
   "metadata": {},
   "source": [
    "### 1.2. Import packages and setup devices"
   ]
  },
  {
   "cell_type": "code",
   "execution_count": 2,
   "metadata": {},
   "outputs": [],
   "source": [
    "import os\n",
    "import math\n",
    "import random\n",
    "import numpy as np\n",
    "import pandas as pd\n",
    "from sklearn import metrics\n",
    "import networkx as nx\n",
    "import torch\n",
    "import torch.nn as nn\n",
    "import torch.nn.functional as F\n",
    "import torch.optim as optim\n",
    "from torch.utils.data import DataLoader\n",
    "import dgl\n",
    "import dgl.function as fn\n",
    "from tqdm import tqdm_notebook as tqdm"
   ]
  },
  {
   "cell_type": "code",
   "execution_count": 3,
   "metadata": {},
   "outputs": [],
   "source": [
    "def seed_everything(seed=1234):\n",
    "    random.seed(seed)\n",
    "    os.environ['PYTHONHASHSEED'] = str(seed)\n",
    "    np.random.seed(seed)\n",
    "    torch.manual_seed(seed)\n",
    "    torch.cuda.manual_seed(seed)\n",
    "    torch.backends.cudnn.deterministic = True"
   ]
  },
  {
   "cell_type": "code",
   "execution_count": 4,
   "metadata": {},
   "outputs": [],
   "source": [
    "seed = 123\n",
    "seed_everything(seed)"
   ]
  },
  {
   "cell_type": "code",
   "execution_count": 5,
   "metadata": {},
   "outputs": [
    {
     "data": {
      "text/plain": [
       "True"
      ]
     },
     "execution_count": 5,
     "metadata": {},
     "output_type": "execute_result"
    }
   ],
   "source": [
    "torch.cuda.is_available()"
   ]
  },
  {
   "cell_type": "code",
   "execution_count": 6,
   "metadata": {},
   "outputs": [
    {
     "data": {
      "text/plain": [
       "device(type='cuda')"
      ]
     },
     "execution_count": 6,
     "metadata": {},
     "output_type": "execute_result"
    }
   ],
   "source": [
    "device = torch.device('cuda' if torch.cuda.is_available() else 'cpu')\n",
    "device"
   ]
  },
  {
   "cell_type": "markdown",
   "metadata": {},
   "source": [
    "## 2. Train"
   ]
  },
  {
   "cell_type": "markdown",
   "metadata": {},
   "source": [
    "### 2.1. Read target file"
   ]
  },
  {
   "cell_type": "code",
   "execution_count": 7,
   "metadata": {},
   "outputs": [
    {
     "data": {
      "text/html": [
       "<div>\n",
       "<style scoped>\n",
       "    .dataframe tbody tr th:only-of-type {\n",
       "        vertical-align: middle;\n",
       "    }\n",
       "\n",
       "    .dataframe tbody tr th {\n",
       "        vertical-align: top;\n",
       "    }\n",
       "\n",
       "    .dataframe thead th {\n",
       "        text-align: right;\n",
       "    }\n",
       "</style>\n",
       "<table border=\"1\" class=\"dataframe\">\n",
       "  <thead>\n",
       "    <tr style=\"text-align: right;\">\n",
       "      <th></th>\n",
       "      <th>target</th>\n",
       "    </tr>\n",
       "    <tr>\n",
       "      <th>company_id</th>\n",
       "      <th></th>\n",
       "    </tr>\n",
       "  </thead>\n",
       "  <tbody>\n",
       "    <tr>\n",
       "      <td>0</td>\n",
       "      <td>1</td>\n",
       "    </tr>\n",
       "    <tr>\n",
       "      <td>1</td>\n",
       "      <td>0</td>\n",
       "    </tr>\n",
       "    <tr>\n",
       "      <td>2</td>\n",
       "      <td>0</td>\n",
       "    </tr>\n",
       "    <tr>\n",
       "      <td>3</td>\n",
       "      <td>1</td>\n",
       "    </tr>\n",
       "    <tr>\n",
       "      <td>4</td>\n",
       "      <td>0</td>\n",
       "    </tr>\n",
       "  </tbody>\n",
       "</table>\n",
       "</div>"
      ],
      "text/plain": [
       "            target\n",
       "company_id        \n",
       "0                1\n",
       "1                0\n",
       "2                0\n",
       "3                1\n",
       "4                0"
      ]
     },
     "execution_count": 7,
     "metadata": {},
     "output_type": "execute_result"
    }
   ],
   "source": [
    "df_target = pd.read_csv('data/train/target.csv', index_col='company_id')\n",
    "df_target.head()"
   ]
  },
  {
   "cell_type": "markdown",
   "metadata": {},
   "source": [
    "### 2.2. Read business relationship graphs"
   ]
  },
  {
   "cell_type": "code",
   "execution_count": 8,
   "metadata": {},
   "outputs": [],
   "source": [
    "def make_node_feature(n_nodes, n_features):\n",
    "    t1 = torch.eye(n_features)\n",
    "    t2 = torch.zeros(n_nodes-n_features, n_features)\n",
    "    t2[:, n_features-1] = 1\n",
    "    return torch.cat([t1, t2])"
   ]
  },
  {
   "cell_type": "code",
   "execution_count": 9,
   "metadata": {
    "scrolled": true
   },
   "outputs": [
    {
     "data": {
      "application/vnd.jupyter.widget-view+json": {
       "model_id": "5fdbb139968a4aeab991fc4c05d29fbc",
       "version_major": 2,
       "version_minor": 0
      },
      "text/plain": [
       "HBox(children=(IntProgress(value=0, max=1000), HTML(value='')))"
      ]
     },
     "metadata": {},
     "output_type": "display_data"
    },
    {
     "name": "stdout",
     "output_type": "stream",
     "text": [
      "\n"
     ]
    }
   ],
   "source": [
    "graphs = []\n",
    "for i in tqdm(df_target.index):\n",
    "    try:\n",
    "        Di_G = nx.read_weighted_edgelist(\n",
    "            'data/train/{}.edgelist'.format(i), delimiter=',', nodetype=int, create_using=nx.DiGraph()\n",
    "        )\n",
    "        last_id = sorted(list(Di_G.nodes))[-1]\n",
    "        for i in range(last_id):\n",
    "            if not Di_G.has_node(i):\n",
    "                Di_G.add_node(i)\n",
    "        G = dgl.DGLGraph()\n",
    "        G.from_networkx(Di_G, edge_attrs=['weight'])\n",
    "        G.ndata['h'] = make_node_feature(G.number_of_nodes(), 8)\n",
    "        G.edata['direction'] = torch.zeros(G.number_of_edges())\n",
    "        src, dst = G.edges()\n",
    "        weight = G.edata['weight']\n",
    "        direction = torch.ones(G.number_of_edges())\n",
    "        G.add_edges(dst, src, data={'weight': weight, 'direction': direction})\n",
    "        G.to(device)\n",
    "        graphs.append(G)\n",
    "    except Exception as e:\n",
    "        print(i)\n",
    "        raise e"
   ]
  },
  {
   "cell_type": "code",
   "execution_count": 10,
   "metadata": {},
   "outputs": [],
   "source": [
    "graphs = np.array(graphs)"
   ]
  },
  {
   "cell_type": "markdown",
   "metadata": {},
   "source": [
    "### 2.3. Define model"
   ]
  },
  {
   "cell_type": "code",
   "execution_count": 11,
   "metadata": {},
   "outputs": [],
   "source": [
    "class BiDirectionalGCN(nn.Module):\n",
    "    def __init__(self, in_feats, out_feats, activation):\n",
    "        super(BiDirectionalGCN, self).__init__()\n",
    "        self.fc = nn.Linear(in_feats*3, out_feats)\n",
    "        self.activation = activation\n",
    "\n",
    "    def message_func(self, edges):\n",
    "        weight = edges.data['weight'].view(-1, 1)\n",
    "        messages = edges.src['h'] * weight\n",
    "        return {'m': messages, 'direction': edges.data['direction']}\n",
    "    \n",
    "    def reduce_func(self, nodes):\n",
    "        messages = nodes.mailbox['m']\n",
    "        direction = nodes.mailbox['direction'].view(messages.size()[0], messages.size()[1], 1)\n",
    "        h0 = torch.sum(messages * direction, dim=1)\n",
    "        direction = (direction + 1) % 2  # 0=>1, 1=>0\n",
    "        h1 = torch.sum(messages * direction, dim=1)\n",
    "        return {'h0': h0, 'h1': h1}\n",
    "\n",
    "    def node_apply_func(self, nodes):\n",
    "        h = torch.cat([nodes.data['h'], nodes.data['h0'], nodes.data['h1']], dim=1)\n",
    "        h = self.activation(self.fc(h))\n",
    "        return {'h': h}\n",
    "    \n",
    "    def forward(self, g, h):\n",
    "        g.ndata['h'] = h\n",
    "        g.update_all(self.message_func, self.reduce_func)\n",
    "        g.apply_nodes(func=self.node_apply_func)\n",
    "        return g.ndata.pop('h')"
   ]
  },
  {
   "cell_type": "code",
   "execution_count": 12,
   "metadata": {},
   "outputs": [],
   "source": [
    "class GATWithSelfLoop(nn.Module):\n",
    "    def __init__(self, in_dim, out_dim, activation):\n",
    "        super(GATWithSelfLoop, self).__init__()\n",
    "        self.fc = nn.Linear(in_dim, out_dim, bias=False)\n",
    "        self.attn_fc = nn.Linear(2 * out_dim, 1, bias=False)\n",
    "        self.self_fc = nn.Linear(in_dim, out_dim, bias=False)\n",
    "        self.self_attn_fc = nn.Linear(out_dim, 1, bias=False)\n",
    "        self.activation = activation\n",
    "        \n",
    "    def node_apply_func(self, nodes):\n",
    "        z_self = self.self_fc(nodes.data['h'])\n",
    "        return {\n",
    "            'z': self.fc(nodes.data['h']),\n",
    "            'z_self': z_self,\n",
    "            'e_self': F.leaky_relu(self.self_attn_fc(z_self))\n",
    "        }\n",
    "    \n",
    "    def edge_attention(self, edges):\n",
    "        z2 = torch.cat([edges.src['z'], edges.dst['z']], dim=1)\n",
    "        e = F.leaky_relu(self.attn_fc(z2))\n",
    "        self.attentions = e.clone().detach()\n",
    "        return {'e': e}\n",
    "    \n",
    "    def message_func(self, edges):\n",
    "        return {'z': edges.src['z'], 'e': edges.data['e']}\n",
    "    \n",
    "    def reduce_func(self, nodes):\n",
    "        e_self = nodes.data['e_self'].view(-1, 1, 1)\n",
    "        e = torch.cat([nodes.mailbox['e'], e_self], dim=1)\n",
    "        alpha = F.softmax(e, dim=1)\n",
    "        z_self = nodes.data['z_self']\n",
    "        hidden_dim = z_self.size(1)\n",
    "        z_self = z_self.view(-1, 1, hidden_dim)\n",
    "        z = torch.cat([nodes.mailbox['z'], z_self], dim=1)\n",
    "        h = self.activation(torch.sum(alpha * z, dim=1))\n",
    "        return {'h': h}\n",
    "    \n",
    "    def forward(self, g, h):\n",
    "        g.ndata['h'] = h\n",
    "        g.apply_nodes(self.node_apply_func)\n",
    "        g.apply_edges(self.edge_attention)\n",
    "        g.update_all(self.message_func, self.reduce_func)\n",
    "        return g.ndata.pop('h')"
   ]
  },
  {
   "cell_type": "code",
   "execution_count": 13,
   "metadata": {},
   "outputs": [],
   "source": [
    "class Classifier(nn.Module):\n",
    "    def __init__(self, in_dim, hidden_dim, n_classes):\n",
    "        super(Classifier, self).__init__()\n",
    "        self.layers = nn.ModuleList([\n",
    "            BiDirectionalGCN(in_dim, hidden_dim, F.relu),\n",
    "            GATWithSelfLoop(hidden_dim, hidden_dim, F.relu)\n",
    "        ])\n",
    "        self.fc1 = nn.Linear(hidden_dim*9, hidden_dim)\n",
    "        self.activation = F.relu\n",
    "        self.fc2 = nn.Linear(hidden_dim, n_classes)\n",
    "        self.hidden_dim = hidden_dim\n",
    "    \n",
    "    def forward(self, g):\n",
    "        h = g.ndata.pop('h')\n",
    "        for conv in self.layers:\n",
    "            h = conv(g, h)\n",
    "        g.ndata['h'] = h\n",
    "        features = []\n",
    "        for graph in dgl.unbatch(g):\n",
    "            node_features = graph.ndata['h'][0:7]\n",
    "            mean = torch.mean(graph.ndata['h'][7:], 0).view(1, -1)\n",
    "            max_values, _ = torch.max(graph.ndata['h'][7:], 0)\n",
    "            max_values = max_values.view(1, -1)\n",
    "            concat = torch.cat([node_features, mean, max_values], 0).view(1, -1)\n",
    "            features.append(concat)\n",
    "        tensor = torch.cat(features)\n",
    "        return self.fc2(self.activation(self.fc1(tensor)))"
   ]
  },
  {
   "cell_type": "markdown",
   "metadata": {},
   "source": [
    "### 2.4. Fit"
   ]
  },
  {
   "cell_type": "code",
   "execution_count": 14,
   "metadata": {},
   "outputs": [],
   "source": [
    "labels = torch.tensor(df_target['target'].values).float()"
   ]
  },
  {
   "cell_type": "code",
   "execution_count": 15,
   "metadata": {},
   "outputs": [],
   "source": [
    "epochs = 20\n",
    "batch_size = 100\n",
    "hidden_dim = 16"
   ]
  },
  {
   "cell_type": "code",
   "execution_count": 16,
   "metadata": {},
   "outputs": [],
   "source": [
    "def collate(samples):\n",
    "    graphs, labels = map(list, zip(*samples))\n",
    "    batched_graph = dgl.batch(graphs)\n",
    "    return batched_graph, torch.tensor(labels).to(device)"
   ]
  },
  {
   "cell_type": "code",
   "execution_count": 17,
   "metadata": {},
   "outputs": [],
   "source": [
    "trainset = list(zip(graphs, labels))\n",
    "data_loader = DataLoader(trainset, batch_size=batch_size, shuffle=True, collate_fn=collate)"
   ]
  },
  {
   "cell_type": "code",
   "execution_count": 18,
   "metadata": {},
   "outputs": [
    {
     "data": {
      "application/vnd.jupyter.widget-view+json": {
       "model_id": "639e2a63314d430a8ce3dbd80a20a567",
       "version_major": 2,
       "version_minor": 0
      },
      "text/plain": [
       "HBox(children=(IntProgress(value=0, max=20), HTML(value='')))"
      ]
     },
     "metadata": {},
     "output_type": "display_data"
    },
    {
     "name": "stdout",
     "output_type": "stream",
     "text": [
      "Train loss:0.6024249017238616\n",
      "Train loss:0.5861609876155853\n",
      "Train loss:0.580128276348114\n",
      "Train loss:0.5747227817773819\n",
      "Train loss:0.568929237127304\n",
      "Train loss:0.5661774933338165\n",
      "Train loss:0.5617933869361877\n",
      "Train loss:0.5609187304973602\n",
      "Train loss:0.5582446873188018\n",
      "Train loss:0.5574558764696121\n",
      "Train loss:0.5549972593784332\n",
      "Train loss:0.5555018901824951\n",
      "Train loss:0.5538880228996277\n",
      "Train loss:0.555523294210434\n",
      "Train loss:0.5564940989017486\n",
      "Train loss:0.5538007497787476\n",
      "Train loss:0.5524279206991196\n",
      "Train loss:0.5502881675958633\n",
      "Train loss:0.5522221475839615\n",
      "Train loss:0.5498411387205124\n",
      "\n"
     ]
    }
   ],
   "source": [
    "model = Classifier(8, hidden_dim, 1).to(device)\n",
    "loss_func = nn.BCEWithLogitsLoss()\n",
    "optimizer = optim.Adam(model.parameters(), lr=0.001)\n",
    "for epoch in tqdm(range(epochs)):\n",
    "    # Train\n",
    "    model.train()\n",
    "    epoch_loss = 0\n",
    "    for iter, (bg, label) in enumerate(data_loader):\n",
    "        prediction = model(bg).view(-1)\n",
    "        loss = loss_func(prediction, label)\n",
    "        optimizer.zero_grad()\n",
    "        loss.backward()\n",
    "        optimizer.step()\n",
    "        epoch_loss += loss.detach().item()\n",
    "    epoch_loss /= (iter + 1)\n",
    "    print('Train loss:{}'.format(epoch_loss))"
   ]
  },
  {
   "cell_type": "markdown",
   "metadata": {},
   "source": [
    "## 3. Test"
   ]
  },
  {
   "cell_type": "markdown",
   "metadata": {},
   "source": [
    "### 3.1. Read target file"
   ]
  },
  {
   "cell_type": "code",
   "execution_count": 19,
   "metadata": {},
   "outputs": [
    {
     "data": {
      "text/html": [
       "<div>\n",
       "<style scoped>\n",
       "    .dataframe tbody tr th:only-of-type {\n",
       "        vertical-align: middle;\n",
       "    }\n",
       "\n",
       "    .dataframe tbody tr th {\n",
       "        vertical-align: top;\n",
       "    }\n",
       "\n",
       "    .dataframe thead th {\n",
       "        text-align: right;\n",
       "    }\n",
       "</style>\n",
       "<table border=\"1\" class=\"dataframe\">\n",
       "  <thead>\n",
       "    <tr style=\"text-align: right;\">\n",
       "      <th></th>\n",
       "      <th>target</th>\n",
       "    </tr>\n",
       "    <tr>\n",
       "      <th>company_id</th>\n",
       "      <th></th>\n",
       "    </tr>\n",
       "  </thead>\n",
       "  <tbody>\n",
       "    <tr>\n",
       "      <td>0</td>\n",
       "      <td>0</td>\n",
       "    </tr>\n",
       "    <tr>\n",
       "      <td>1</td>\n",
       "      <td>0</td>\n",
       "    </tr>\n",
       "    <tr>\n",
       "      <td>2</td>\n",
       "      <td>1</td>\n",
       "    </tr>\n",
       "    <tr>\n",
       "      <td>3</td>\n",
       "      <td>0</td>\n",
       "    </tr>\n",
       "    <tr>\n",
       "      <td>4</td>\n",
       "      <td>0</td>\n",
       "    </tr>\n",
       "  </tbody>\n",
       "</table>\n",
       "</div>"
      ],
      "text/plain": [
       "            target\n",
       "company_id        \n",
       "0                0\n",
       "1                0\n",
       "2                1\n",
       "3                0\n",
       "4                0"
      ]
     },
     "execution_count": 19,
     "metadata": {},
     "output_type": "execute_result"
    }
   ],
   "source": [
    "df_target = pd.read_csv('data/test/target.csv', index_col='company_id')\n",
    "df_target.head()"
   ]
  },
  {
   "cell_type": "markdown",
   "metadata": {},
   "source": [
    "### 3.2. Read business relationship graph"
   ]
  },
  {
   "cell_type": "code",
   "execution_count": 20,
   "metadata": {},
   "outputs": [
    {
     "data": {
      "application/vnd.jupyter.widget-view+json": {
       "model_id": "8fad4dffc8f64848a00027260517551d",
       "version_major": 2,
       "version_minor": 0
      },
      "text/plain": [
       "HBox(children=(IntProgress(value=0, max=1000), HTML(value='')))"
      ]
     },
     "metadata": {},
     "output_type": "display_data"
    },
    {
     "name": "stdout",
     "output_type": "stream",
     "text": [
      "\n"
     ]
    }
   ],
   "source": [
    "graphs = []\n",
    "for i in tqdm(df_target.index):\n",
    "    try:\n",
    "        Di_G = nx.read_weighted_edgelist(\n",
    "            'data/test/{}.edgelist'.format(i), delimiter=',', nodetype=int, create_using=nx.DiGraph()\n",
    "        )\n",
    "        last_id = sorted(list(Di_G.nodes))[-1]\n",
    "        for i in range(last_id):\n",
    "            if not Di_G.has_node(i):\n",
    "                Di_G.add_node(i)\n",
    "        G = dgl.DGLGraph()\n",
    "        G.from_networkx(Di_G, edge_attrs=['weight'])\n",
    "        G.ndata['h'] = make_node_feature(G.number_of_nodes(), 8)\n",
    "        G.edata['direction'] = torch.zeros(G.number_of_edges())\n",
    "        src, dst = G.edges()\n",
    "        weight = G.edata['weight']\n",
    "        direction = torch.ones(G.number_of_edges())\n",
    "        G.add_edges(dst, src, data={'weight': weight, 'direction': direction})\n",
    "        G.to(device)\n",
    "        graphs.append(G)\n",
    "    except Exception as e:\n",
    "        print(i)\n",
    "        raise e"
   ]
  },
  {
   "cell_type": "markdown",
   "metadata": {},
   "source": [
    "### 3.3. Predict"
   ]
  },
  {
   "cell_type": "code",
   "execution_count": 21,
   "metadata": {},
   "outputs": [],
   "source": [
    "total_count = len(df_target)\n",
    "iteration_count = math.ceil(total_count / batch_size)"
   ]
  },
  {
   "cell_type": "code",
   "execution_count": 22,
   "metadata": {},
   "outputs": [
    {
     "data": {
      "application/vnd.jupyter.widget-view+json": {
       "model_id": "3c6d5f928b7941a6aa6e806aabdf8f8b",
       "version_major": 2,
       "version_minor": 0
      },
      "text/plain": [
       "HBox(children=(IntProgress(value=0, max=10), HTML(value='')))"
      ]
     },
     "metadata": {},
     "output_type": "display_data"
    },
    {
     "name": "stdout",
     "output_type": "stream",
     "text": [
      "\n"
     ]
    }
   ],
   "source": [
    "df_probs_list = []\n",
    "for i in tqdm(range(iteration_count)):\n",
    "    start = i * batch_size\n",
    "    end = (i+1) * batch_size\n",
    "    if end > total_count:\n",
    "        end = total_count\n",
    "    batch_graphs = dgl.batch(graphs[start:end])\n",
    "    model.eval()\n",
    "    prediction = model(batch_graphs).view(-1)\n",
    "    probs = torch.sigmoid(prediction).to(torch.device('cpu')).view(-1).detach().numpy()\n",
    "    df = df_target.iloc[start:end].copy()\n",
    "    df['probability'] = probs\n",
    "    df_probs_list.append(df)"
   ]
  },
  {
   "cell_type": "code",
   "execution_count": 23,
   "metadata": {},
   "outputs": [
    {
     "data": {
      "text/html": [
       "<div>\n",
       "<style scoped>\n",
       "    .dataframe tbody tr th:only-of-type {\n",
       "        vertical-align: middle;\n",
       "    }\n",
       "\n",
       "    .dataframe tbody tr th {\n",
       "        vertical-align: top;\n",
       "    }\n",
       "\n",
       "    .dataframe thead th {\n",
       "        text-align: right;\n",
       "    }\n",
       "</style>\n",
       "<table border=\"1\" class=\"dataframe\">\n",
       "  <thead>\n",
       "    <tr style=\"text-align: right;\">\n",
       "      <th></th>\n",
       "      <th>target</th>\n",
       "      <th>probability</th>\n",
       "    </tr>\n",
       "    <tr>\n",
       "      <th>company_id</th>\n",
       "      <th></th>\n",
       "      <th></th>\n",
       "    </tr>\n",
       "  </thead>\n",
       "  <tbody>\n",
       "    <tr>\n",
       "      <td>0</td>\n",
       "      <td>0</td>\n",
       "      <td>0.189258</td>\n",
       "    </tr>\n",
       "    <tr>\n",
       "      <td>1</td>\n",
       "      <td>0</td>\n",
       "      <td>0.133027</td>\n",
       "    </tr>\n",
       "    <tr>\n",
       "      <td>2</td>\n",
       "      <td>1</td>\n",
       "      <td>0.320061</td>\n",
       "    </tr>\n",
       "    <tr>\n",
       "      <td>3</td>\n",
       "      <td>0</td>\n",
       "      <td>0.410629</td>\n",
       "    </tr>\n",
       "    <tr>\n",
       "      <td>4</td>\n",
       "      <td>0</td>\n",
       "      <td>0.177759</td>\n",
       "    </tr>\n",
       "  </tbody>\n",
       "</table>\n",
       "</div>"
      ],
      "text/plain": [
       "            target  probability\n",
       "company_id                     \n",
       "0                0     0.189258\n",
       "1                0     0.133027\n",
       "2                1     0.320061\n",
       "3                0     0.410629\n",
       "4                0     0.177759"
      ]
     },
     "execution_count": 23,
     "metadata": {},
     "output_type": "execute_result"
    }
   ],
   "source": [
    "df_probs = pd.concat(df_probs_list)\n",
    "df_probs.head()"
   ]
  },
  {
   "cell_type": "markdown",
   "metadata": {},
   "source": [
    "### 3.4. Evaluation"
   ]
  },
  {
   "cell_type": "code",
   "execution_count": 24,
   "metadata": {},
   "outputs": [
    {
     "name": "stdout",
     "output_type": "stream",
     "text": [
      "0.6317605276509386\n"
     ]
    }
   ],
   "source": [
    "fpr, tpr, thresholds = metrics.roc_curve(df_probs['target'], df_probs['probability'])\n",
    "print(metrics.auc(fpr, tpr))"
   ]
  },
  {
   "cell_type": "code",
   "execution_count": null,
   "metadata": {},
   "outputs": [],
   "source": []
  }
 ],
 "metadata": {
  "kernelspec": {
   "display_name": "Python 3",
   "language": "python",
   "name": "python3"
  },
  "language_info": {
   "codemirror_mode": {
    "name": "ipython",
    "version": 3
   },
   "file_extension": ".py",
   "mimetype": "text/x-python",
   "name": "python",
   "nbconvert_exporter": "python",
   "pygments_lexer": "ipython3",
   "version": "3.7.4"
  }
 },
 "nbformat": 4,
 "nbformat_minor": 2
}
